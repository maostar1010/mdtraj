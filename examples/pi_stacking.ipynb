{
 "cells": [
  {
   "cell_type": "markdown",
   "metadata": {},
   "source": [
    "# Pi-Stacking Identification\n"
   ]
  },
  {
   "cell_type": "code",
   "execution_count": null,
   "metadata": {},
   "outputs": [],
   "source": [
    "import mdtraj as md"
   ]
  },
  {
   "cell_type": "markdown",
   "metadata": {},
   "source": [
    "Load up some example data from the PDB. 4BFQ has two pi-stacking interactions between a ligand (resSeq 301) and Y186. Both aromatic residues on the ligand are placed in such a way that the TYR phenol stacks with them.\n"
   ]
  },
  {
   "cell_type": "code",
   "execution_count": null,
   "metadata": {},
   "outputs": [],
   "source": [
    "t = md.load_pdb(\"http://www.rcsb.org/pdb/files/4BFQ.pdb\")\n",
    "print(t)"
   ]
  },
  {
   "cell_type": "markdown",
   "metadata": {},
   "source": [
    "The md.pi_stacking method requires pre-identification of the aromatic residues that one would like to measure pi-stacks between. As such, one must identify aromatic substructures on both, e.g. a ligand of interest and a protein of interest.\n",
    "\n",
    "We can use the selection language to identify the atom indices of the particular ligand atom indices:\n"
   ]
  },
  {
   "cell_type": "code",
   "execution_count": null,
   "metadata": {},
   "outputs": [],
   "source": [
    "lig_aromatic_atms_to_test = [\n",
    "    (\"C16\", \"C17\", \"C18\", \"C19\", \"C20\", \"C21\"),  # pi-stacking\n",
    "    (\"N4\", \"C9\", \"C15\", \"C16\", \"C21\", \"C8\"),  # pi-stacking\n",
    "    (\"N5\", \"C10\", \"C11\", \"C12\", \"C13\", \"C14\"),  # NOT pi-stacking\n",
    "]\n",
    "lig_grps = []\n",
    "for lig_grp in lig_aromatic_atms_to_test:\n",
    "    lig_grps.append(\n",
    "        tuple(\n",
    "            int(idx)\n",
    "            for idx in t.top.select(\n",
    "                f\"chainid 5 and resSeq 301 and (name {lig_grp[0]} or name {' or name '.join(lig_grp[1:])})\"\n",
    "            )\n",
    "        )\n",
    "    )\n",
    "print(f\"{lig_grps=}\")"
   ]
  },
  {
   "cell_type": "markdown",
   "metadata": {},
   "source": [
    "Let's also get the atom indices of the aromatic atoms in the sidechain of TYR 186\n"
   ]
  },
  {
   "cell_type": "code",
   "execution_count": null,
   "metadata": {},
   "outputs": [],
   "source": [
    "protein_grps = []\n",
    "# TYR186\n",
    "protein_stacking_atms = [(\"CE2\", \"CD2\", \"CG\", \"CD1\", \"CE1\", \"CZ\")]\n",
    "for protein_grp in protein_stacking_atms:\n",
    "    protein_grps.append(\n",
    "        tuple(\n",
    "            int(idx)\n",
    "            for idx in t.top.select(\n",
    "                f\"chainid 0 and resSeq 186 and (name {protein_grp[0]} or name {' or name '.join(protein_grp[1:])})\"\n",
    "            )\n",
    "        )\n",
    "    )\n",
    "print(f\"{protein_grps=}\")"
   ]
  },
  {
   "cell_type": "markdown",
   "metadata": {},
   "source": [
    "Now we can calculate if there is a stacking interaction with each of our protein/ligand groups:\n"
   ]
  },
  {
   "cell_type": "code",
   "execution_count": null,
   "metadata": {},
   "outputs": [],
   "source": [
    "stacking_interactions = md.pi_stacking(t, lig_grps, protein_grps)\n",
    "print(f\"{stacking_interactions=}\")\n",
    "for frame_num, frame in enumerate(stacking_interactions):\n",
    "    print(f\"{frame_num=}\")\n",
    "    for lig_grp, protein_grp in frame:\n",
    "        print(f\"{[t.top.atom(atm) for atm in lig_grp]} <-> {[t.top.atom(atm) for atm in protein_grp]}\")"
   ]
  },
  {
   "cell_type": "markdown",
   "metadata": {},
   "source": [
    "Note how the ligand group `(\"N5\", \"C10\", \"C11\", \"C12\", \"C13\", \"C14\")` was not found, even though we supplied it as a potential stacking aromatic group, since it didn't meet the geometric criteria for pi-stacking.\n"
   ]
  },
  {
   "cell_type": "markdown",
   "metadata": {},
   "source": [
    "4BFQ has clear face-to-face pi-stacking interactions. T-stacking (edge-to-face) interactions are also supported in `md.pi_stacking`.\n"
   ]
  },
  {
   "cell_type": "code",
   "execution_count": null,
   "metadata": {},
   "outputs": [],
   "source": [
    "t = md.load_pdb(\"http://www.rcsb.org/pdb/files/6A22.pdb\")\n",
    "print(t)"
   ]
  },
  {
   "cell_type": "code",
   "execution_count": null,
   "metadata": {},
   "outputs": [],
   "source": [
    "lig_aromatic_atms_to_test = [\n",
    "    (\"S10\", \"C9\", \"C8\", \"N7\", \"C6\"),  # t-stacking, edge-to-face with PHR\n",
    "    (\"C14\", \"C15\", \"C16\", \"C17\", \"C18\", \"C19\"),  # NOT pi-stacking\n",
    "]\n",
    "lig_grps = []\n",
    "for lig_grp in lig_aromatic_atms_to_test:\n",
    "    lig_grps.append(\n",
    "        tuple(\n",
    "            int(idx)\n",
    "            for idx in t.top.select(\n",
    "                f\"chainid 9 and resSeq 9000 and (name {lig_grp[0]} or name {' or name '.join(lig_grp[1:])})\"\n",
    "            )\n",
    "        )\n",
    "    )\n",
    "protein_grps = []\n",
    "# PHR118/378\n",
    "protein_stacking_atms = [(\"CE2\", \"CD2\", \"CG\", \"CD1\", \"CE1\", \"CZ\")]\n",
    "for protein_grp in protein_stacking_atms:\n",
    "    protein_grps.append(\n",
    "        tuple(\n",
    "            int(idx)\n",
    "            for idx in t.top.select(\n",
    "                f\"chainid 2 and resSeq 378 and (name {protein_grp[0]} or name {' or name '.join(protein_grp[1:])})\"\n",
    "            )\n",
    "        )\n",
    "    )\n",
    "print(f\"{lig_grps=}\")\n",
    "print(f\"{protein_grps=}\")"
   ]
  },
  {
   "cell_type": "code",
   "execution_count": null,
   "metadata": {},
   "outputs": [],
   "source": [
    "stacking_interactions = md.pi_stacking(t, lig_grps, protein_grps)\n",
    "print(f\"{stacking_interactions=}\")\n",
    "for frame_num, frame in enumerate(stacking_interactions):\n",
    "    print(f\"{frame_num=}\")\n",
    "    for lig_grp, protein_grp in frame:\n",
    "        print(f\"{[t.top.atom(atm) for atm in lig_grp]} <-> {[t.top.atom(atm) for atm in protein_grp]}\")"
   ]
  }
 ],
 "metadata": {
  "kernelspec": {
   "display_name": "base",
   "language": "python",
   "name": "python3"
  },
  "language_info": {
   "codemirror_mode": {
    "name": "ipython",
    "version": 3
   },
   "file_extension": ".py",
   "mimetype": "text/x-python",
   "name": "python",
   "nbconvert_exporter": "python",
   "pygments_lexer": "ipython3",
   "version": "3.12.9"
  }
 },
 "nbformat": 4,
 "nbformat_minor": 0
}
